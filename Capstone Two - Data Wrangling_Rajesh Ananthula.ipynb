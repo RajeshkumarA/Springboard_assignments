{
 "cells": [
  {
   "cell_type": "code",
   "execution_count": 1,
   "metadata": {},
   "outputs": [],
   "source": [
    "# Import necessary packages\n",
    "import numpy as np\n",
    "import pandas as pd\n",
    "import seaborn as sns\n",
    "import matplotlib.pyplot as plt\n",
    "import sklearn\n",
    "import pickle\n",
    "from sklearn import linear_model\n",
    "from sklearn.linear_model import LinearRegression\n",
    "from sklearn.metrics import mean_absolute_error\n",
    "from sklearn.compose import ColumnTransformer\n",
    "from sklearn.impute import SimpleImputer\n",
    "from sklearn.pipeline import Pipeline\n",
    "from sklearn.preprocessing import OneHotEncoder, MinMaxScaler\n",
    "from sklearn.compose import ColumnTransformer\n",
    "from sklearn.model_selection import train_test_split\n",
    "pd.set_option('display.max_columns', None)  # Show all columns\n",
    "pd.set_option('display.expand_frame_repr', False)  # Do not wrap lines\n",
    "pd.set_option('display.width', 0)  # Automatically adjust the width to the terminal"
   ]
  },
  {
   "cell_type": "code",
   "execution_count": null,
   "metadata": {},
   "outputs": [],
   "source": []
  },
  {
   "cell_type": "markdown",
   "metadata": {},
   "source": [
    "### Load Housing dataset"
   ]
  },
  {
   "cell_type": "code",
   "execution_count": 4,
   "metadata": {},
   "outputs": [],
   "source": [
    "# Import dataset\n",
    "df = pd.read_csv('/Users/spidy/Downloads/American_Housing_Data_20231209.csv')"
   ]
  },
  {
   "cell_type": "markdown",
   "metadata": {},
   "source": [
    "1. What kind of cleaning steps did you perform?"
   ]
  },
  {
   "cell_type": "code",
   "execution_count": 19,
   "metadata": {},
   "outputs": [
    {
     "name": "stdout",
     "output_type": "stream",
     "text": [
      "Number of rows: 39019\n",
      "<class 'pandas.core.frame.DataFrame'>\n",
      "Index: 39019 entries, 0 to 39980\n",
      "Data columns (total 14 columns):\n",
      " #   Column                   Non-Null Count  Dtype  \n",
      "---  ------                   --------------  -----  \n",
      " 0   zip_code                 39019 non-null  int64  \n",
      " 1   price                    39019 non-null  float64\n",
      " 2   beds                     39019 non-null  int64  \n",
      " 3   baths                    39019 non-null  int64  \n",
      " 4   living_space             39019 non-null  int64  \n",
      " 5   address                  39019 non-null  object \n",
      " 6   city                     39019 non-null  object \n",
      " 7   state                    39019 non-null  object \n",
      " 8   zip_code_population      39019 non-null  int64  \n",
      " 9   zip_code_density         39019 non-null  float64\n",
      " 10  county                   39019 non-null  object \n",
      " 11  median_household_income  39017 non-null  float64\n",
      " 12  latitude                 39019 non-null  float64\n",
      " 13  longitude                39019 non-null  float64\n",
      "dtypes: float64(5), int64(5), object(4)\n",
      "memory usage: 4.5+ MB\n",
      "Number of rows: 39019\n"
     ]
    }
   ],
   "source": [
    "# Standardizing the column names where spaces are replaced with underscores and all letters are in lowercase\n",
    "df.columns = df.columns.str.lower().str.replace(' ', '_') \n",
    "\n",
    "#Removing duplicates in the dataset\n",
    "df.drop_duplicates(inplace=True) \n",
    "\n",
    "# Display information about the DataFrame\n",
    "df.info()\n",
    "\n",
    "# Display the count\n",
    "rows, columns = df.shape\n",
    "print(f\"Number of rows: {rows}\")"
   ]
  },
  {
   "cell_type": "code",
   "execution_count": 25,
   "metadata": {},
   "outputs": [
    {
     "name": "stdout",
     "output_type": "stream",
     "text": [
      "                           count           mean            std          min           25%           50%           75%           max\n",
      "zip_code                 39019.0   64870.425818   25509.952267  10013.00000   40218.00000   74136.00000   85716.00000  9.819900e+04\n",
      "price                    39019.0  621762.206027  953152.000253   1800.00000  264900.00000  399900.00000  669000.00000  3.800000e+07\n",
      "beds                     39019.0       3.171378       1.309513      1.00000       3.00000       3.00000       4.00000  5.400000e+01\n",
      "baths                    39019.0       2.463748       1.325817      1.00000       2.00000       2.00000       3.00000  6.600000e+01\n",
      "living_space             39019.0    1899.984187    1210.783157      2.00000    1201.50000    1638.00000    2265.00000  7.434000e+04\n",
      "zip_code_population      39019.0   37697.457905   18635.871043      0.00000   24440.00000   35083.00000   46816.00000  1.164690e+05\n",
      "zip_code_density         39019.0    2367.620880    2931.105982      0.00000     897.10000    1578.80000    2727.00000  5.828960e+04\n",
      "median_household_income  39017.0  110786.631622   47291.030788  27475.00000   76640.00000  100405.00000  134948.00000  9.002030e+05\n",
      "latitude                 39019.0      36.444635       4.449218     25.72983      32.99687      36.16789      39.28421  4.774237e+01\n",
      "longitude                39019.0     -98.048619      15.024340   -122.82687    -111.63476     -96.83943     -85.71571 -7.370451e+01\n"
     ]
    }
   ],
   "source": [
    "# describe the data\n",
    "print(df.describe().T)"
   ]
  },
  {
   "cell_type": "code",
   "execution_count": 28,
   "metadata": {},
   "outputs": [
    {
     "name": "stdout",
     "output_type": "stream",
     "text": [
      "zip_code                   0\n",
      "price                      0\n",
      "beds                       0\n",
      "baths                      0\n",
      "living_space               0\n",
      "address                    0\n",
      "city                       0\n",
      "state                      0\n",
      "zip_code_population        0\n",
      "zip_code_density           0\n",
      "county                     0\n",
      "median_household_income    2\n",
      "latitude                   0\n",
      "longitude                  0\n",
      "dtype: int64\n",
      "zip_code                   0\n",
      "price                      0\n",
      "beds                       0\n",
      "baths                      0\n",
      "living_space               0\n",
      "address                    0\n",
      "city                       0\n",
      "state                      0\n",
      "zip_code_population        0\n",
      "zip_code_density           0\n",
      "county                     0\n",
      "median_household_income    2\n",
      "latitude                   0\n",
      "longitude                  0\n",
      "dtype: int64\n"
     ]
    }
   ],
   "source": [
    "# Check for missing values\n",
    "print(df.isna().sum())\n",
    "\n",
    "# Check for missing values\n",
    "print(df.isna().sum())"
   ]
  },
  {
   "cell_type": "code",
   "execution_count": 32,
   "metadata": {},
   "outputs": [
    {
     "data": {
      "text/html": [
       "<div>\n",
       "<style scoped>\n",
       "    .dataframe tbody tr th:only-of-type {\n",
       "        vertical-align: middle;\n",
       "    }\n",
       "\n",
       "    .dataframe tbody tr th {\n",
       "        vertical-align: top;\n",
       "    }\n",
       "\n",
       "    .dataframe thead th {\n",
       "        text-align: right;\n",
       "    }\n",
       "</style>\n",
       "<table border=\"1\" class=\"dataframe\">\n",
       "  <thead>\n",
       "    <tr style=\"text-align: right;\">\n",
       "      <th></th>\n",
       "      <th>zip_code</th>\n",
       "      <th>price</th>\n",
       "      <th>beds</th>\n",
       "      <th>baths</th>\n",
       "      <th>living_space</th>\n",
       "      <th>zip_code_population</th>\n",
       "      <th>zip_code_density</th>\n",
       "      <th>median_household_income</th>\n",
       "      <th>latitude</th>\n",
       "      <th>longitude</th>\n",
       "    </tr>\n",
       "  </thead>\n",
       "  <tbody>\n",
       "    <tr>\n",
       "      <th>count</th>\n",
       "      <td>39017.000000</td>\n",
       "      <td>3.901700e+04</td>\n",
       "      <td>39017.000000</td>\n",
       "      <td>39017.000000</td>\n",
       "      <td>39017.000000</td>\n",
       "      <td>39017.000000</td>\n",
       "      <td>39017.000000</td>\n",
       "      <td>39017.000000</td>\n",
       "      <td>39017.000000</td>\n",
       "      <td>39017.000000</td>\n",
       "    </tr>\n",
       "    <tr>\n",
       "      <th>mean</th>\n",
       "      <td>64869.602148</td>\n",
       "      <td>6.217678e+05</td>\n",
       "      <td>3.171310</td>\n",
       "      <td>2.463695</td>\n",
       "      <td>1899.966040</td>\n",
       "      <td>37699.390266</td>\n",
       "      <td>2367.742243</td>\n",
       "      <td>110786.631622</td>\n",
       "      <td>36.444510</td>\n",
       "      <td>-98.048279</td>\n",
       "    </tr>\n",
       "    <tr>\n",
       "      <th>std</th>\n",
       "      <td>25510.346664</td>\n",
       "      <td>9.531760e+05</td>\n",
       "      <td>1.309468</td>\n",
       "      <td>1.325825</td>\n",
       "      <td>1210.797648</td>\n",
       "      <td>18634.394050</td>\n",
       "      <td>2931.132088</td>\n",
       "      <td>47291.030788</td>\n",
       "      <td>4.449298</td>\n",
       "      <td>15.024650</td>\n",
       "    </tr>\n",
       "    <tr>\n",
       "      <th>min</th>\n",
       "      <td>10013.000000</td>\n",
       "      <td>1.800000e+03</td>\n",
       "      <td>1.000000</td>\n",
       "      <td>1.000000</td>\n",
       "      <td>2.000000</td>\n",
       "      <td>39.000000</td>\n",
       "      <td>0.600000</td>\n",
       "      <td>27475.000000</td>\n",
       "      <td>25.729830</td>\n",
       "      <td>-122.826870</td>\n",
       "    </tr>\n",
       "    <tr>\n",
       "      <th>25%</th>\n",
       "      <td>40218.000000</td>\n",
       "      <td>2.649000e+05</td>\n",
       "      <td>3.000000</td>\n",
       "      <td>2.000000</td>\n",
       "      <td>1201.000000</td>\n",
       "      <td>24440.000000</td>\n",
       "      <td>897.100000</td>\n",
       "      <td>76640.000000</td>\n",
       "      <td>32.996870</td>\n",
       "      <td>-111.634760</td>\n",
       "    </tr>\n",
       "    <tr>\n",
       "      <th>50%</th>\n",
       "      <td>74136.000000</td>\n",
       "      <td>3.999000e+05</td>\n",
       "      <td>3.000000</td>\n",
       "      <td>2.000000</td>\n",
       "      <td>1638.000000</td>\n",
       "      <td>35083.000000</td>\n",
       "      <td>1578.800000</td>\n",
       "      <td>100405.000000</td>\n",
       "      <td>36.167890</td>\n",
       "      <td>-96.839430</td>\n",
       "    </tr>\n",
       "    <tr>\n",
       "      <th>75%</th>\n",
       "      <td>85716.000000</td>\n",
       "      <td>6.690000e+05</td>\n",
       "      <td>4.000000</td>\n",
       "      <td>3.000000</td>\n",
       "      <td>2265.000000</td>\n",
       "      <td>46816.000000</td>\n",
       "      <td>2727.000000</td>\n",
       "      <td>134948.000000</td>\n",
       "      <td>39.284210</td>\n",
       "      <td>-85.715710</td>\n",
       "    </tr>\n",
       "    <tr>\n",
       "      <th>max</th>\n",
       "      <td>98199.000000</td>\n",
       "      <td>3.800000e+07</td>\n",
       "      <td>54.000000</td>\n",
       "      <td>66.000000</td>\n",
       "      <td>74340.000000</td>\n",
       "      <td>116469.000000</td>\n",
       "      <td>58289.600000</td>\n",
       "      <td>900203.000000</td>\n",
       "      <td>47.742370</td>\n",
       "      <td>-73.704510</td>\n",
       "    </tr>\n",
       "  </tbody>\n",
       "</table>\n",
       "</div>"
      ],
      "text/plain": [
       "           zip_code         price          beds         baths  living_space  zip_code_population  zip_code_density  median_household_income      latitude     longitude\n",
       "count  39017.000000  3.901700e+04  39017.000000  39017.000000  39017.000000         39017.000000      39017.000000             39017.000000  39017.000000  39017.000000\n",
       "mean   64869.602148  6.217678e+05      3.171310      2.463695   1899.966040         37699.390266       2367.742243            110786.631622     36.444510    -98.048279\n",
       "std    25510.346664  9.531760e+05      1.309468      1.325825   1210.797648         18634.394050       2931.132088             47291.030788      4.449298     15.024650\n",
       "min    10013.000000  1.800000e+03      1.000000      1.000000      2.000000            39.000000          0.600000             27475.000000     25.729830   -122.826870\n",
       "25%    40218.000000  2.649000e+05      3.000000      2.000000   1201.000000         24440.000000        897.100000             76640.000000     32.996870   -111.634760\n",
       "50%    74136.000000  3.999000e+05      3.000000      2.000000   1638.000000         35083.000000       1578.800000            100405.000000     36.167890    -96.839430\n",
       "75%    85716.000000  6.690000e+05      4.000000      3.000000   2265.000000         46816.000000       2727.000000            134948.000000     39.284210    -85.715710\n",
       "max    98199.000000  3.800000e+07     54.000000     66.000000  74340.000000        116469.000000      58289.600000            900203.000000     47.742370    -73.704510"
      ]
     },
     "execution_count": 32,
     "metadata": {},
     "output_type": "execute_result"
    }
   ],
   "source": [
    "# Drop rows with missing values\n",
    "df.dropna(inplace=True)\n",
    "\n",
    "# Drop columns with missing values\n",
    "df.dropna(axis=1, inplace=True)\n",
    "\n",
    "# Drop columns with more than 50% missing values\n",
    "df.dropna(thresh=len(df) * 0.5, axis=1, inplace=True)\n",
    "\n",
    "df.describe()"
   ]
  },
  {
   "cell_type": "markdown",
   "metadata": {},
   "source": [
    "3. Were there outliers, and how did you handle them?"
   ]
  },
  {
   "cell_type": "code",
   "execution_count": 39,
   "metadata": {},
   "outputs": [
    {
     "name": "stdout",
     "output_type": "stream",
     "text": [
      "                           count           mean            std          min           25%           50%           75%           max\n",
      "zip_code                 39017.0   64869.602148   25510.346664  10013.00000   40218.00000   74136.00000   85716.00000  9.819900e+04\n",
      "price                    39017.0  621767.806776  953176.034567   1800.00000  264900.00000  399900.00000  669000.00000  3.800000e+07\n",
      "beds                     39017.0       3.171310       1.309468      1.00000       3.00000       3.00000       4.00000  5.400000e+01\n",
      "baths                    39017.0       2.463695       1.325825      1.00000       2.00000       2.00000       3.00000  6.600000e+01\n",
      "living_space             39017.0    1899.966040    1210.797648      2.00000    1201.00000    1638.00000    2265.00000  7.434000e+04\n",
      "zip_code_population      39017.0   37699.390266   18634.394050     39.00000   24440.00000   35083.00000   46816.00000  1.164690e+05\n",
      "zip_code_density         39017.0    2367.742243    2931.132088      0.60000     897.10000    1578.80000    2727.00000  5.828960e+04\n",
      "median_household_income  39017.0  110786.631622   47291.030788  27475.00000   76640.00000  100405.00000  134948.00000  9.002030e+05\n",
      "latitude                 39017.0      36.444510       4.449298     25.72983      32.99687      36.16789      39.28421  4.774237e+01\n",
      "longitude                39017.0     -98.048279      15.024650   -122.82687    -111.63476     -96.83943     -85.71571 -7.370451e+01\n",
      "                           count           mean            std          min           25%           50%           75%           max\n",
      "zip_code                 35525.0   63950.756594   25135.607579  10014.00000   40216.00000   73150.00000   85206.00000  9.819900e+04\n",
      "price                    35525.0  435554.471442  258508.265251   1800.00000  250000.00000  375000.00000  565000.00000  1.275000e+06\n",
      "beds                     35525.0       3.065137       1.040575      1.00000       2.00000       3.00000       4.00000  2.200000e+01\n",
      "baths                    35525.0       2.296636       0.945599      1.00000       2.00000       2.00000       3.00000  2.100000e+01\n",
      "living_space             35525.0    1742.462885     898.072277      2.00000    1175.00000    1584.00000    2124.00000  7.434000e+04\n",
      "zip_code_population      35525.0   37956.662013   18815.251088     39.00000   24623.00000   35199.00000   47158.00000  1.164690e+05\n",
      "zip_code_density         35525.0    2210.670235    2724.755470      0.60000     863.00000    1518.40000    2517.80000  5.828960e+04\n",
      "median_household_income  35525.0  104766.128163   41202.947316  27475.00000   74601.00000   96940.00000  127243.00000  3.899280e+05\n",
      "latitude                 35525.0      36.490705       4.430602     25.72983      32.98205      36.17367      39.33932  4.774237e+01\n",
      "longitude                35525.0     -97.236568      14.550522   -122.82687    -110.77230     -96.19576     -85.65543 -7.370451e+01\n"
     ]
    }
   ],
   "source": [
    "# 75th percentile\n",
    "seventy_fifth = df[\"price\"].quantile(0.75)\n",
    "\n",
    "# 25th percentile\n",
    "twenty_fifth = df[\"price\"].quantile(0.25)\n",
    "\n",
    "# Interquartile range\n",
    "prices_iqr = seventy_fifth - twenty_fifth\n",
    "\n",
    "# Upper threshold\n",
    "upper = seventy_fifth + (1.5 * prices_iqr)\n",
    "\n",
    "# Lower threshold\n",
    "lower = twenty_fifth - (1.5 * prices_iqr)\n",
    "\n",
    "df_mod = df[(df[\"price\"] > lower) & (df[\"price\"] < upper)]\n",
    "# Compare datasets before and after removing outliers\n",
    "print(df.describe().T) # Before\n",
    "print(df_mod.describe().T) # After"
   ]
  },
  {
   "cell_type": "code",
   "execution_count": 42,
   "metadata": {},
   "outputs": [
    {
     "data": {
      "image/png": "[encoded data removed]",
      "text/plain": [
       "<Figure size 640x480 with 1 Axes>"
      ]
     },
     "metadata": {},
     "output_type": "display_data"
    }
   ],
   "source": [
    "sns.histplot(data=df_mod, x=\"price\")\n",
    "plt.show()"
   ]
  },
  {
   "cell_type": "code",
   "execution_count": 44,
   "metadata": {},
   "outputs": [
    {
     "data": {
      "image/png": "[encoded data removed]",
      "text/plain": [
       "<Figure size 1200x600 with 1 Axes>"
      ]
     },
     "metadata": {},
     "output_type": "display_data"
    }
   ],
   "source": [
    "plt.figure(figsize=(12, 6))\n",
    "sns.scatterplot(x='beds', y='price', data=df, color='red', alpha=0.6,)\n",
    "plt.title('Relationship between Beds and Price')\n",
    "plt.xlabel('Beds')\n",
    "plt.ylabel('Price')\n",
    "plt.show()"
   ]
  },
  {
   "cell_type": "markdown",
   "metadata": {},
   "source": [
    "## Apply LSTM on the above data"
   ]
  },
  {
   "cell_type": "code",
   "execution_count": 45,
   "metadata": {},
   "outputs": [],
   "source": [
    "# Normalize the data\n",
    "\n",
    "from sklearn.preprocessing import MinMaxScaler\n",
    "\n",
    "scaler = MinMaxScaler()\n",
    "df['price_scaled'] = scaler.fit_transform(df[['price']])"
   ]
  },
  {
   "cell_type": "code",
   "execution_count": 46,
   "metadata": {},
   "outputs": [],
   "source": [
    "import numpy as np\n",
    "\n",
    "# Convert data into sequences\n",
    "def create_sequences(data, sequence_length):\n",
    "    X, y = [], []\n",
    "    for i in range(len(data) - sequence_length):\n",
    "        X.append(data[i:i+sequence_length])\n",
    "        y.append(data[i+sequence_length])\n",
    "    return np.array(X), np.array(y)\n",
    "\n",
    "sequence_length = 10  # Number of past time steps to use\n",
    "data = df['price_scaled'].values\n",
    "X, y = create_sequences(data, sequence_length)"
   ]
  },
  {
   "cell_type": "code",
   "execution_count": null,
   "metadata": {},
   "outputs": [],
   "source": [
    "#build LSTM Model\n",
    "\n",
    "from tensorflow.keras.models import Sequential\n",
    "from tensorflow.keras.layers import LSTM, Dense\n",
    "\n",
    "# Define the LSTM model\n",
    "model = Sequential()\n",
    "model.add(LSTM(50, activation='relu', input_shape=(X.shape[1], 1)))\n",
    "model.add(Dense(1))\n",
    "model.compile(optimizer='adam', loss='mse')\n",
    "\n",
    "# Reshape X for LSTM input\n",
    "X = X.reshape((X.shape[0], X.shape[1], 1))\n",
    "\n",
    "# Train the model\n",
    "model.fit(X, y, epochs=50, batch_size=32, verbose=1)"
   ]
  }
 ],
 "metadata": {
  "kernelspec": {
   "display_name": "base",
   "language": "python",
   "name": "python3"
  },
  "language_info": {
   "codemirror_mode": {
    "name": "ipython",
    "version": 3
   },
   "file_extension": ".py",
   "mimetype": "text/x-python",
   "name": "python",
   "nbconvert_exporter": "python",
   "pygments_lexer": "ipython3",
   "version": "3.12.7"
  }
 },
 "nbformat": 4,
 "nbformat_minor": 2
}
