{
 "cells": [
  {
   "cell_type": "markdown",
   "metadata": {
    "colab_type": "text",
    "id": "Tia3MP1SJpgj"
   },
   "source": [
    "# Springboard Data Science Career Track Unit 4 Challenge - Tier 3 Complete\n",
    "\n",
    "## Objectives\n",
    "Hey! Great job getting through those challenging DataCamp courses. You're learning a lot in a short span of time. \n",
    "\n",
    "In this notebook, you're going to apply the skills you've been learning, bridging the gap between the controlled environment of DataCamp and the *slightly* messier work that data scientists do with actual datasets!\n",
    "\n",
    "Here’s the mystery we’re going to solve: ***which boroughs of London have seen the greatest increase in housing prices, on average, over the last two decades?***\n",
    "\n",
    "\n",
    "A borough is just a fancy word for district. You may be familiar with the five boroughs of New York… well, there are 32 boroughs within Greater London [(here's some info for the curious)](https://en.wikipedia.org/wiki/London_boroughs). Some of them are more desirable areas to live in, and the data will reflect that with a greater rise in housing prices.\n",
    "\n",
    "***This is the Tier 3 notebook, which means it's not filled in at all: we'll just give you the skeleton of a project, the brief and the data. It's up to you to play around with it and see what you can find out! Good luck! If you struggle, feel free to look at easier tiers for help; but try to dip in and out of them, as the more independent work you do, the better it is for your learning!***\n",
    "\n",
    "This challenge will make use of only what you learned in the following DataCamp courses: \n",
    "- Prework courses (Introduction to Python for Data Science, Intermediate Python for Data Science)\n",
    "- Data Types for Data Science\n",
    "- Python Data Science Toolbox (Part One) \n",
    "- pandas Foundations\n",
    "- Manipulating DataFrames with pandas\n",
    "- Merging DataFrames with pandas\n",
    "\n",
    "Of the tools, techniques and concepts in the above DataCamp courses, this challenge should require the application of the following: \n",
    "- **pandas**\n",
    "    - **data ingestion and inspection** (pandas Foundations, Module One) \n",
    "    - **exploratory data analysis** (pandas Foundations, Module Two)\n",
    "    - **tidying and cleaning** (Manipulating DataFrames with pandas, Module Three) \n",
    "    - **transforming DataFrames** (Manipulating DataFrames with pandas, Module One)\n",
    "    - **subsetting DataFrames with lists** (Manipulating DataFrames with pandas, Module One) \n",
    "    - **filtering DataFrames** (Manipulating DataFrames with pandas, Module One) \n",
    "    - **grouping data** (Manipulating DataFrames with pandas, Module Four) \n",
    "    - **melting data** (Manipulating DataFrames with pandas, Module Three) \n",
    "    - **advanced indexing** (Manipulating DataFrames with pandas, Module Four) \n",
    "- **matplotlib** (Intermediate Python for Data Science, Module One)\n",
    "- **fundamental data types** (Data Types for Data Science, Module One) \n",
    "- **dictionaries** (Intermediate Python for Data Science, Module Two)\n",
    "- **handling dates and times** (Data Types for Data Science, Module Four)\n",
    "- **function definition** (Python Data Science Toolbox - Part One, Module One)\n",
    "- **default arguments, variable length, and scope** (Python Data Science Toolbox - Part One, Module Two) \n",
    "- **lambda functions and error handling** (Python Data Science Toolbox - Part One, Module Four) "
   ]
  },
  {
   "cell_type": "markdown",
   "metadata": {
    "colab_type": "text",
    "id": "Ipgd2nV8Jpgl"
   },
   "source": [
    "## The Data Science Pipeline\n",
    "\n",
    "This is Tier Three, so we'll get you started. But after that, it's all in your hands! When you feel done with your investigations, look back over what you've accomplished, and prepare a quick presentation of your findings for the next mentor meeting. \n",
    "\n",
    "Data Science is magical. In this case study, you'll get to apply some complex machine learning algorithms. But as  [David Spiegelhalter](https://www.youtube.com/watch?v=oUs1uvsz0Ok) reminds us, there is no substitute for simply **taking a really, really good look at the data.** Sometimes, this is all we need to answer our question.\n",
    "\n",
    "Data Science projects generally adhere to the four stages of Data Science Pipeline:\n",
    "1. Sourcing and loading \n",
    "2. Cleaning, transforming, and visualizing \n",
    "3. Modeling \n",
    "4. Evaluating and concluding \n"
   ]
  },
  {
   "cell_type": "markdown",
   "metadata": {
    "colab_type": "text",
    "id": "zswDqbefJpgm"
   },
   "source": [
    "### 1. Sourcing and Loading \n",
    "\n",
    "Any Data Science project kicks off by importing  ***pandas***. The documentation of this wonderful library can be found [here](https://pandas.pydata.org/). As you've seen, pandas is conveniently connected to the [Numpy](http://www.numpy.org/) and [Matplotlib](https://matplotlib.org/) libraries. \n",
    "\n",
    "***Hint:*** This part of the data science pipeline will test those skills you acquired in the pandas Foundations course, Module One. "
   ]
  },
  {
   "cell_type": "markdown",
   "metadata": {
    "colab_type": "text",
    "id": "aEau5nEvJpgm"
   },
   "source": [
    "#### 1.1. Importing Libraries"
   ]
  },
  {
   "cell_type": "code",
   "execution_count": 8,
   "metadata": {
    "colab": {},
    "colab_type": "code",
    "id": "7Bt_Q_oPJpgn"
   },
   "outputs": [],
   "source": [
    "# Let's import the pandas, numpy libraries as pd, and np respectively. \n",
    "import pandas as pd\n",
    "import numpy as np\n",
    "\n",
    "# Load the pyplot collection of functions from matplotlib, as plt \n",
    "import matplotlib.pyplot as plt"
   ]
  },
  {
   "cell_type": "markdown",
   "metadata": {
    "colab_type": "text",
    "id": "koUrawxsJpgq"
   },
   "source": [
    "#### 1.2.  Loading the data\n",
    "Your data comes from the [London Datastore](https://data.london.gov.uk/): a free, open-source data-sharing portal for London-oriented datasets. "
   ]
  },
  {
   "cell_type": "code",
   "execution_count": 9,
   "metadata": {
    "colab": {},
    "colab_type": "code",
    "id": "AiLiD4v3Jpgr"
   },
   "outputs": [],
   "source": [
    "# First, make a variable called url_LondonHousePrices, and assign it the following link, enclosed in quotation-marks as a string:\n",
    "# https://data.london.gov.uk/download/uk-house-price-index/70ac0766-8902-4eb5-aab5-01951aaed773/UK%20House%20price%20index.xls\n",
    "\n",
    "url_LondonHousePrices = \"https://data.london.gov.uk/download/uk-house-price-index/70ac0766-8902-4eb5-aab5-01951aaed773/UK%20House%20price%20index.xls\"\n",
    "\n",
    "# The dataset we're interested in contains the Average prices of the houses, and is actually on a particular sheet of the Excel file. \n",
    "# As a result, we need to specify the sheet name in the read_excel() method.\n",
    "# Put this data into a variable called properties.  \n",
    "properties = pd.read_excel(url_LondonHousePrices, sheet_name='Average price', index_col= None)"
   ]
  },
  {
   "cell_type": "markdown",
   "metadata": {
    "colab_type": "text",
    "id": "POukEJXgJpgu"
   },
   "source": [
    "### 2. Cleaning, transforming, and visualizing\n",
    "This second stage is arguably the most important part of any Data Science project. The first thing to do is take a proper look at the data. Cleaning forms the majority of this stage, and can be done both before or after Transformation.\n",
    "\n",
    "The end goal of data cleaning is to have tidy data. When data is tidy: \n",
    "\n",
    "1. Each variable has a column.\n",
    "2. Each observation forms a row.\n",
    "\n",
    "Keep the end goal in mind as you move through this process, every step will take you closer. \n",
    "\n",
    "\n",
    "\n",
    "***Hint:*** This part of the data science pipeline should test those skills you acquired in: \n",
    "- Intermediate Python for data science, all modules.\n",
    "- pandas Foundations, all modules. \n",
    "- Manipulating DataFrames with pandas, all modules.\n",
    "- Data Types for Data Science, Module Four.\n",
    "- Python Data Science Toolbox - Part One, all modules"
   ]
  },
  {
   "cell_type": "markdown",
   "metadata": {
    "colab_type": "text",
    "id": "Te0Q548tnzZa"
   },
   "source": [
    "**2.1. Exploring your data** \n",
    "\n",
    "Think about your pandas functions for checking out a dataframe. "
   ]
  },
  {
   "cell_type": "code",
   "execution_count": 11,
   "metadata": {
    "colab": {},
    "colab_type": "code",
    "id": "Rxirxw_qoAJa"
   },
   "outputs": [
    {
     "name": "stdout",
     "output_type": "stream",
     "text": [
      "Index(['Unnamed: 0', 'City of London', 'Barking & Dagenham', 'Barnet',\n",
      "       'Bexley', 'Brent', 'Bromley', 'Camden', 'Croydon', 'Ealing', 'Enfield',\n",
      "       'Greenwich', 'Hackney', 'Hammersmith & Fulham', 'Haringey', 'Harrow',\n",
      "       'Havering', 'Hillingdon', 'Hounslow', 'Islington',\n",
      "       'Kensington & Chelsea', 'Kingston upon Thames', 'Lambeth', 'Lewisham',\n",
      "       'Merton', 'Newham', 'Redbridge', 'Richmond upon Thames', 'Southwark',\n",
      "       'Sutton', 'Tower Hamlets', 'Waltham Forest', 'Wandsworth',\n",
      "       'Westminster', 'Unnamed: 34', 'Inner London', 'Outer London',\n",
      "       'Unnamed: 37', 'NORTH EAST', 'NORTH WEST', 'YORKS & THE HUMBER',\n",
      "       'EAST MIDLANDS', 'WEST MIDLANDS', 'EAST OF ENGLAND', 'LONDON',\n",
      "       'SOUTH EAST', 'SOUTH WEST', 'Unnamed: 47', 'England'],\n",
      "      dtype='object')\n",
      "  Unnamed: 0 City of London Barking & Dagenham       Barnet       Bexley  \\\n",
      "0        NaT      E09000001          E09000002    E09000003    E09000004   \n",
      "1 1995-01-01    91448.98487         50460.2266  93284.51832  64958.09036   \n",
      "2 1995-02-01    82202.77314        51085.77983  93190.16963  64787.92069   \n",
      "3 1995-03-01    79120.70256        51268.96956  92247.52435  64367.49344   \n",
      "4 1995-04-01    77101.20804        53133.50526  90762.87492  64277.66881   \n",
      "\n",
      "         Brent      Bromley       Camden      Croydon       Ealing  ...  \\\n",
      "0    E09000005    E09000006    E09000007    E09000008    E09000009  ...   \n",
      "1  71306.56698  81671.47692  120932.8881  69158.16225  79885.89069  ...   \n",
      "2  72022.26197  81657.55944  119508.8622  68951.09542  80897.06551  ...   \n",
      "3  72015.76274  81449.31143  120282.2131  68712.44341  81379.86288  ...   \n",
      "4  72965.63094  81124.41227   120097.899  68610.04641  82188.90498  ...   \n",
      "\n",
      "    NORTH WEST YORKS & THE HUMBER EAST MIDLANDS WEST MIDLANDS EAST OF ENGLAND  \\\n",
      "0    E12000002          E12000003     E12000004     E12000005       E12000006   \n",
      "1  43958.48001        44803.42878   45544.52227   48527.52339      56701.5961   \n",
      "2  43925.42289        44528.80721   46051.57066   49341.29029     56593.59475   \n",
      "3   44434.8681        45200.46775   45383.82395   49442.17973     56171.18278   \n",
      "4   44267.7796        45614.34341   46124.23045   49455.93299     56567.89582   \n",
      "\n",
      "        LONDON   SOUTH EAST   SOUTH WEST Unnamed: 47      England  \n",
      "0    E12000007    E12000008    E12000009         NaN    E92000001  \n",
      "1  74435.76052  64018.87894   54705.1579         NaN  53202.77128  \n",
      "2  72777.93709  63715.02399  54356.14843         NaN   53096.1549  \n",
      "3  73896.84204  64113.60858  53583.07667         NaN   53201.2843  \n",
      "4  74455.28754  64623.22395  54786.01938         NaN   53590.8548  \n",
      "\n",
      "[5 rows x 49 columns]\n",
      "<class 'pandas.core.frame.DataFrame'>\n",
      "RangeIndex: 360 entries, 0 to 359\n",
      "Data columns (total 49 columns):\n",
      " #   Column                Non-Null Count  Dtype         \n",
      "---  ------                --------------  -----         \n",
      " 0   Unnamed: 0            359 non-null    datetime64[ns]\n",
      " 1   City of London        360 non-null    object        \n",
      " 2   Barking & Dagenham    360 non-null    object        \n",
      " 3   Barnet                360 non-null    object        \n",
      " 4   Bexley                360 non-null    object        \n",
      " 5   Brent                 360 non-null    object        \n",
      " 6   Bromley               360 non-null    object        \n",
      " 7   Camden                360 non-null    object        \n",
      " 8   Croydon               360 non-null    object        \n",
      " 9   Ealing                360 non-null    object        \n",
      " 10  Enfield               360 non-null    object        \n",
      " 11  Greenwich             360 non-null    object        \n",
      " 12  Hackney               360 non-null    object        \n",
      " 13  Hammersmith & Fulham  360 non-null    object        \n",
      " 14  Haringey              360 non-null    object        \n",
      " 15  Harrow                360 non-null    object        \n",
      " 16  Havering              360 non-null    object        \n",
      " 17  Hillingdon            360 non-null    object        \n",
      " 18  Hounslow              360 non-null    object        \n",
      " 19  Islington             360 non-null    object        \n",
      " 20  Kensington & Chelsea  360 non-null    object        \n",
      " 21  Kingston upon Thames  360 non-null    object        \n",
      " 22  Lambeth               360 non-null    object        \n",
      " 23  Lewisham              360 non-null    object        \n",
      " 24  Merton                360 non-null    object        \n",
      " 25  Newham                360 non-null    object        \n",
      " 26  Redbridge             360 non-null    object        \n",
      " 27  Richmond upon Thames  360 non-null    object        \n",
      " 28  Southwark             360 non-null    object        \n",
      " 29  Sutton                360 non-null    object        \n",
      " 30  Tower Hamlets         360 non-null    object        \n",
      " 31  Waltham Forest        360 non-null    object        \n",
      " 32  Wandsworth            360 non-null    object        \n",
      " 33  Westminster           360 non-null    object        \n",
      " 34  Unnamed: 34           0 non-null      float64       \n",
      " 35  Inner London          360 non-null    object        \n",
      " 36  Outer London          360 non-null    object        \n",
      " 37  Unnamed: 37           0 non-null      float64       \n",
      " 38  NORTH EAST            360 non-null    object        \n",
      " 39  NORTH WEST            360 non-null    object        \n",
      " 40  YORKS & THE HUMBER    360 non-null    object        \n",
      " 41  EAST MIDLANDS         360 non-null    object        \n",
      " 42  WEST MIDLANDS         360 non-null    object        \n",
      " 43  EAST OF ENGLAND       360 non-null    object        \n",
      " 44  LONDON                360 non-null    object        \n",
      " 45  SOUTH EAST            360 non-null    object        \n",
      " 46  SOUTH WEST            360 non-null    object        \n",
      " 47  Unnamed: 47           0 non-null      float64       \n",
      " 48  England               360 non-null    object        \n",
      "dtypes: datetime64[ns](1), float64(3), object(45)\n",
      "memory usage: 137.9+ KB\n",
      "None\n",
      "                          Unnamed: 0  Unnamed: 34  Unnamed: 37  Unnamed: 47\n",
      "count                            359          0.0          0.0          0.0\n",
      "mean   2009-11-30 17:38:56.490250752          NaN          NaN          NaN\n",
      "min              1995-01-01 00:00:00          NaN          NaN          NaN\n",
      "25%              2002-06-16 00:00:00          NaN          NaN          NaN\n",
      "50%              2009-12-01 00:00:00          NaN          NaN          NaN\n",
      "75%              2017-05-16 12:00:00          NaN          NaN          NaN\n",
      "max              2024-11-01 00:00:00          NaN          NaN          NaN\n",
      "std                              NaN          NaN          NaN          NaN\n"
     ]
    }
   ],
   "source": [
    "# To get the columns of the dataframe, we can use the columns attribute.\n",
    "print(properties.columns)\n",
    "# This is to get the sample data of the dataframe\n",
    "print(properties.head())\n",
    "# This is to get the summary information of the dataframe\n",
    "print(properties.info())\n",
    "# Also we can describe the data using the describe method\n",
    "print(properties.describe())"
   ]
  },
  {
   "cell_type": "markdown",
   "metadata": {
    "colab_type": "text",
    "id": "tE9Sqt9-oAta"
   },
   "source": [
    "**2.2. Cleaning the data**\n",
    "\n",
    "You might find you need to transpose your dataframe, check out what its row indexes are, and reset the index. You  also might find you need to assign the values of the first row to your column headings  . (Hint: recall the .columns feature of DataFrames, as well as the iloc[] method).\n",
    "\n",
    "Don't be afraid to use StackOverflow for help  with this."
   ]
  },
  {
   "cell_type": "code",
   "execution_count": 12,
   "metadata": {
    "colab": {},
    "colab_type": "code",
    "id": "cdAu1A3YoH_r"
   },
   "outputs": [
    {
     "name": "stdout",
     "output_type": "stream",
     "text": [
      "0          Unnamed: 0        NaT 1995-01-01 00:00:00 1995-02-01 00:00:00  \\\n",
      "1      City of London  E09000001         91448.98487         82202.77314   \n",
      "2  Barking & Dagenham  E09000002          50460.2266         51085.77983   \n",
      "3              Barnet  E09000003         93284.51832         93190.16963   \n",
      "4              Bexley  E09000004         64958.09036         64787.92069   \n",
      "5               Brent  E09000005         71306.56698         72022.26197   \n",
      "\n",
      "0 1995-03-01 00:00:00 1995-04-01 00:00:00 1995-05-01 00:00:00  \\\n",
      "1         79120.70256         77101.20804         84409.14932   \n",
      "2         51268.96956         53133.50526         53042.24852   \n",
      "3         92247.52435         90762.87492         90258.00033   \n",
      "4         64367.49344         64277.66881         63997.13588   \n",
      "5         72015.76274         72965.63094         73704.04743   \n",
      "\n",
      "0 1995-06-01 00:00:00 1995-07-01 00:00:00 1995-08-01 00:00:00  ...  \\\n",
      "1         94900.51244         110128.0423         112329.4376  ...   \n",
      "2         53700.34831         52113.12157         52232.19868  ...   \n",
      "3         90107.23471         91441.24768         92361.31512  ...   \n",
      "4         64252.32335         63722.70055         64432.60005  ...   \n",
      "5         74310.48167         74127.03788          73547.0411  ...   \n",
      "\n",
      "0 2024-02-01 00:00:00 2024-03-01 00:00:00 2024-04-01 00:00:00  \\\n",
      "1              840075              831249              810250   \n",
      "2              328266              333303              335559   \n",
      "3              563115              569976              573051   \n",
      "4              394741              395633              396584   \n",
      "5              524230              515007              502686   \n",
      "\n",
      "0 2024-05-01 00:00:00 2024-06-01 00:00:00 2024-07-01 00:00:00  \\\n",
      "1              813219              808227              754954   \n",
      "2              335794              332826              340826   \n",
      "3              580130              584621              590027   \n",
      "4              396070              400617              401848   \n",
      "5              503373              529306              529279   \n",
      "\n",
      "0 2024-08-01 00:00:00 2024-09-01 00:00:00 2024-10-01 00:00:00  \\\n",
      "1              750362              719570              692265   \n",
      "2              338083              340295              340932   \n",
      "3              596078              592861              589938   \n",
      "4              406623              408441              408837   \n",
      "5              545384              544571              553641   \n",
      "\n",
      "0 2024-11-01 00:00:00  \n",
      "1              670906  \n",
      "2              343528  \n",
      "3              592678  \n",
      "4              406441  \n",
      "5              545671  \n",
      "\n",
      "[5 rows x 361 columns]\n"
     ]
    }
   ],
   "source": [
    "# Yes, based upon the sample data and the summary information, we can see that the data is in a tidy format.\n",
    "# Transpose the dataframe\n",
    "properties_T = properties.T\n",
    "\n",
    "# Reset the index\n",
    "properties_T = properties_T.reset_index()\n",
    "\n",
    "# Assign the first row as column headers\n",
    "properties_T.columns = properties_T.iloc[0]\n",
    "\n",
    "# Drop the first row\n",
    "properties_T = properties_T.drop(0)\n",
    "\n",
    "# Display the cleaned dataframe\n",
    "print(properties_T.head())"
   ]
  },
  {
   "cell_type": "markdown",
   "metadata": {
    "colab_type": "text",
    "id": "o1uLbJAsoIjK"
   },
   "source": [
    "**2.3. Cleaning the data (part 2)**\n",
    "\n",
    "You might we have to **rename** a couple columns. How do you do this? The clue's pretty bold..."
   ]
  },
  {
   "cell_type": "code",
   "execution_count": 16,
   "metadata": {
    "colab": {},
    "colab_type": "code",
    "id": "GKkmn1AnoVZS"
   },
   "outputs": [
    {
     "name": "stdout",
     "output_type": "stream",
     "text": [
      "0      London_Borough         ID 1995-01-01 00:00:00 1995-02-01 00:00:00  \\\n",
      "1      City of London  E09000001         91448.98487         82202.77314   \n",
      "2  Barking & Dagenham  E09000002          50460.2266         51085.77983   \n",
      "3              Barnet  E09000003         93284.51832         93190.16963   \n",
      "4              Bexley  E09000004         64958.09036         64787.92069   \n",
      "5               Brent  E09000005         71306.56698         72022.26197   \n",
      "\n",
      "0 1995-03-01 00:00:00 1995-04-01 00:00:00 1995-05-01 00:00:00  \\\n",
      "1         79120.70256         77101.20804         84409.14932   \n",
      "2         51268.96956         53133.50526         53042.24852   \n",
      "3         92247.52435         90762.87492         90258.00033   \n",
      "4         64367.49344         64277.66881         63997.13588   \n",
      "5         72015.76274         72965.63094         73704.04743   \n",
      "\n",
      "0 1995-06-01 00:00:00 1995-07-01 00:00:00 1995-08-01 00:00:00  ...  \\\n",
      "1         94900.51244         110128.0423         112329.4376  ...   \n",
      "2         53700.34831         52113.12157         52232.19868  ...   \n",
      "3         90107.23471         91441.24768         92361.31512  ...   \n",
      "4         64252.32335         63722.70055         64432.60005  ...   \n",
      "5         74310.48167         74127.03788          73547.0411  ...   \n",
      "\n",
      "0 2024-02-01 00:00:00 2024-03-01 00:00:00 2024-04-01 00:00:00  \\\n",
      "1              840075              831249              810250   \n",
      "2              328266              333303              335559   \n",
      "3              563115              569976              573051   \n",
      "4              394741              395633              396584   \n",
      "5              524230              515007              502686   \n",
      "\n",
      "0 2024-05-01 00:00:00 2024-06-01 00:00:00 2024-07-01 00:00:00  \\\n",
      "1              813219              808227              754954   \n",
      "2              335794              332826              340826   \n",
      "3              580130              584621              590027   \n",
      "4              396070              400617              401848   \n",
      "5              503373              529306              529279   \n",
      "\n",
      "0 2024-08-01 00:00:00 2024-09-01 00:00:00 2024-10-01 00:00:00  \\\n",
      "1              750362              719570              692265   \n",
      "2              338083              340295              340932   \n",
      "3              596078              592861              589938   \n",
      "4              406623              408441              408837   \n",
      "5              545384              544571              553641   \n",
      "\n",
      "0 2024-11-01 00:00:00  \n",
      "1              670906  \n",
      "2              343528  \n",
      "3              592678  \n",
      "4              406441  \n",
      "5              545671  \n",
      "\n",
      "[5 rows x 361 columns]\n"
     ]
    }
   ],
   "source": [
    "properties_T = properties_T.rename(columns={'Unnamed: 0': 'London_Borough', pd.NaT: 'ID'})\n",
    "print(properties_T.head())"
   ]
  },
  {
   "cell_type": "markdown",
   "metadata": {
    "colab_type": "text",
    "id": "jy8BzXHmoWEw"
   },
   "source": [
    "**2.4.Transforming the data**\n",
    "\n",
    "Remember what Wes McKinney said about tidy data? \n",
    "\n",
    "You might need to **melt** your DataFrame here. "
   ]
  },
  {
   "cell_type": "code",
   "execution_count": 115,
   "metadata": {
    "colab": {},
    "colab_type": "code",
    "id": "S2wM0qLuo2Zt"
   },
   "outputs": [
    {
     "name": "stdout",
     "output_type": "stream",
     "text": [
      "       London_Borough         ID                Month Average_price\n",
      "0      City of London  E09000001  1995-01-01 00:00:00   91448.98487\n",
      "1  Barking & Dagenham  E09000002  1995-01-01 00:00:00    50460.2266\n",
      "2              Barnet  E09000003  1995-01-01 00:00:00   93284.51832\n",
      "3              Bexley  E09000004  1995-01-01 00:00:00   64958.09036\n",
      "4               Brent  E09000005  1995-01-01 00:00:00   71306.56698\n"
     ]
    }
   ],
   "source": [
    "# Melting the dataframe\n",
    "properties_melted = pd.melt(properties_T, id_vars=['London_Borough', 'ID'], var_name='Month', value_name='Average_price')\n",
    "\n",
    "# Display the melted dataframe\n",
    "print(properties_melted.head())\n"
   ]
  },
  {
   "cell_type": "markdown",
   "metadata": {
    "colab_type": "text",
    "id": "7kIsgAo7o3mf"
   },
   "source": [
    "Remember to make sure your column data types are all correct. Average prices, for example, should be floating point numbers... "
   ]
  },
  {
   "cell_type": "code",
   "execution_count": 117,
   "metadata": {},
   "outputs": [
    {
     "name": "stdout",
     "output_type": "stream",
     "text": [
      "London_Borough     object\n",
      "ID                 object\n",
      "Month              object\n",
      "Average_price     float64\n",
      "dtype: object\n",
      "       London_Borough         ID                Month  Average_price\n",
      "0      City of London  E09000001  1995-01-01 00:00:00       91448.98\n",
      "1  Barking & Dagenham  E09000002  1995-01-01 00:00:00       50460.23\n",
      "2              Barnet  E09000003  1995-01-01 00:00:00       93284.52\n",
      "3              Bexley  E09000004  1995-01-01 00:00:00       64958.09\n",
      "4               Brent  E09000005  1995-01-01 00:00:00       71306.57\n"
     ]
    }
   ],
   "source": [
    "# Tried to Convert the 'Date' column to datetime but it was not working and it's trimming the timestamp to date so decided to go with the string\n",
    "#properties_melted['Date'] = pd.to_datetime(properties_melted['Date'])\n",
    "\n",
    "# For now I have converted the date to string\n",
    "properties_melted['Month'] = properties_melted['Month'].astype('str')\n",
    "\n",
    "# Convert the 'Average_price' column to float\n",
    "properties_melted['Average_price'] = properties_melted['Average_price'].astype(float).round(2)\n",
    "\n",
    "# Convert the 'ID' column to integer, handling NaN values\n",
    "properties_melted['ID'] = properties_melted['ID'].astype('str')\n",
    "\n",
    "# Ensure 'London_Borough' is string\n",
    "properties_melted['London_Borough'] = properties_melted['London_Borough'].astype(str)\n",
    "\n",
    "# Verify the conversions\n",
    "print(properties_melted.dtypes)\n",
    "print(properties_melted.head())"
   ]
  },
  {
   "cell_type": "markdown",
   "metadata": {
    "colab_type": "text",
    "id": "knLUXHLypOtw"
   },
   "source": [
    "**2.5. Cleaning the data (part 3)**\n",
    "\n",
    "Do we have an equal number of observations in the ID, Average Price, Month, and London Borough columns? Remember that there are only 32 London Boroughs. How many entries do you have in that column? \n",
    "\n",
    "Check out the contents of the London Borough column, and if you find null values, get rid of them however you see fit. "
   ]
  },
  {
   "cell_type": "code",
   "execution_count": 120,
   "metadata": {
    "colab": {},
    "colab_type": "code",
    "id": "BnvTW5a3p0fC"
   },
   "outputs": [
    {
     "name": "stdout",
     "output_type": "stream",
     "text": [
      "0\n",
      "['City of London' 'Barking & Dagenham' 'Barnet' 'Bexley' 'Brent' 'Bromley'\n",
      " 'Camden' 'Croydon' 'Ealing' 'Enfield' 'Greenwich' 'Hackney'\n",
      " 'Hammersmith & Fulham' 'Haringey' 'Harrow' 'Havering' 'Hillingdon'\n",
      " 'Hounslow' 'Islington' 'Kensington & Chelsea' 'Kingston upon Thames'\n",
      " 'Lambeth' 'Lewisham' 'Merton' 'Newham' 'Redbridge' 'Richmond upon Thames'\n",
      " 'Southwark' 'Sutton' 'Tower Hamlets' 'Waltham Forest' 'Wandsworth'\n",
      " 'Westminster' 'Unnamed: 34' 'Inner London' 'Outer London' 'Unnamed: 37'\n",
      " 'NORTH EAST' 'NORTH WEST' 'YORKS & THE HUMBER' 'EAST MIDLANDS'\n",
      " 'WEST MIDLANDS' 'EAST OF ENGLAND' 'LONDON' 'SOUTH EAST' 'SOUTH WEST'\n",
      " 'Unnamed: 47' 'England']\n",
      "['City of London' 'Barking & Dagenham' 'Barnet' 'Bexley' 'Brent' 'Bromley'\n",
      " 'Camden' 'Croydon' 'Ealing' 'Enfield' 'Greenwich' 'Hackney'\n",
      " 'Hammersmith & Fulham' 'Haringey' 'Harrow' 'Havering' 'Hillingdon'\n",
      " 'Hounslow' 'Islington' 'Kensington & Chelsea' 'Kingston upon Thames'\n",
      " 'Lambeth' 'Lewisham' 'Merton' 'Newham' 'Redbridge' 'Richmond upon Thames'\n",
      " 'Southwark' 'Sutton' 'Tower Hamlets' 'Waltham Forest' 'Wandsworth']\n",
      "<class 'pandas.core.frame.DataFrame'>\n",
      "Index: 11488 entries, 0 to 17215\n",
      "Data columns (total 4 columns):\n",
      " #   Column          Non-Null Count  Dtype  \n",
      "---  ------          --------------  -----  \n",
      " 0   London_Borough  11488 non-null  object \n",
      " 1   ID              11488 non-null  object \n",
      " 2   Month           11488 non-null  object \n",
      " 3   Average_price   11488 non-null  float64\n",
      "dtypes: float64(1), object(3)\n",
      "memory usage: 448.8+ KB\n",
      "None\n"
     ]
    }
   ],
   "source": [
    "# null values in the 'London_Borough' column\n",
    "print(properties_melted['London_Borough'].isnull().sum())\n",
    "\n",
    "# unique values in the 'London_Borough' column\n",
    "print(properties_melted['London_Borough'].unique())\n",
    "\n",
    "# Filter out rows where 'London_Borough' is null or not a valid borough\n",
    "valid_boroughs = properties_melted['London_Borough'].unique()[:32]\n",
    "properties_cleaned = properties_melted[properties_melted['London_Borough'].isin(valid_boroughs)]\n",
    "\n",
    "# Verify the cleaning\n",
    "print(properties_cleaned['London_Borough'].unique())\n",
    "print(properties_cleaned.info())\n"
   ]
  },
  {
   "cell_type": "markdown",
   "metadata": {
    "colab_type": "text",
    "id": "PGEx6mJsp6dG"
   },
   "source": [
    "**2.6. Visualizing the data**\n",
    "\n",
    "To visualize the data, why not subset on a particular London Borough? Maybe do a line plot of Month against Average Price?"
   ]
  },
  {
   "cell_type": "code",
   "execution_count": 122,
   "metadata": {
    "colab": {},
    "colab_type": "code",
    "id": "nAg5pT9cqHAR"
   },
   "outputs": [
    {
     "data": {
      "image/png": "[encoded data removed]",
      "text/plain": [
       "<Figure size 1000x500 with 1 Axes>"
      ]
     },
     "metadata": {},
     "output_type": "display_data"
    }
   ],
   "source": [
    "#subsetting the data for camden\n",
    "\n",
    "borough_data = properties_cleaned[properties_cleaned['London_Borough'] == 'Camden']\n",
    "\n",
    "# Plot the data\n",
    "plt.figure(figsize=(10, 5))\n",
    "plt.plot(borough_data['Month'], borough_data['Average_price'])\n",
    "plt.title('Average House Prices in Camden Over Time')\n",
    "plt.xlabel('Date')\n",
    "plt.ylabel('Average Price')\n",
    "plt.xticks(rotation=45)\n",
    "plt.show()"
   ]
  },
  {
   "cell_type": "markdown",
   "metadata": {
    "colab_type": "text",
    "id": "aWTPqSJeqHnC"
   },
   "source": [
    "To limit the number of data points you have, you might want to extract the year from every month value your *Month* column. \n",
    "\n",
    "To this end, you *could* apply a ***lambda function***. Your logic could work as follows:\n",
    "1. look through the `Month` column\n",
    "2. extract the year from each individual value in that column \n",
    "3. store that corresponding year as separate column. \n",
    "\n",
    "Whether you go ahead with this is up to you. Just so long as you answer our initial brief: which boroughs of London have seen the greatest house price increase, on average, over the past two decades? "
   ]
  },
  {
   "cell_type": "code",
   "execution_count": 123,
   "metadata": {
    "colab": {},
    "colab_type": "code",
    "id": "e0DF92cyqnu8"
   },
   "outputs": [
    {
     "name": "stdout",
     "output_type": "stream",
     "text": [
      "       London_Borough         ID                Month  Average_price  Year\n",
      "0      City of London  E09000001  1995-01-01 00:00:00       91448.98  1995\n",
      "1  Barking & Dagenham  E09000002  1995-01-01 00:00:00       50460.23  1995\n",
      "2              Barnet  E09000003  1995-01-01 00:00:00       93284.52  1995\n",
      "3              Bexley  E09000004  1995-01-01 00:00:00       64958.09  1995\n",
      "4               Brent  E09000005  1995-01-01 00:00:00       71306.57  1995\n"
     ]
    },
    {
     "name": "stderr",
     "output_type": "stream",
     "text": [
      "/var/folders/kz/rfkt08815m1d1qt65q6h5w7m0000gn/T/ipykernel_59729/3205911339.py:2: SettingWithCopyWarning: \n",
      "A value is trying to be set on a copy of a slice from a DataFrame.\n",
      "Try using .loc[row_indexer,col_indexer] = value instead\n",
      "\n",
      "See the caveats in the documentation: https://pandas.pydata.org/pandas-docs/stable/user_guide/indexing.html#returning-a-view-versus-a-copy\n",
      "  properties_cleaned['Year'] = properties_cleaned['Month'].apply(lambda x: x[:4])\n"
     ]
    }
   ],
   "source": [
    "# Extract the year from the 'Month' column and store it in a new column 'Year'\n",
    "properties_cleaned['Year'] = properties_cleaned['Month'].apply(lambda x: x[:4])\n",
    "\n",
    "print(properties_cleaned.head())"
   ]
  },
  {
   "cell_type": "markdown",
   "metadata": {
    "colab_type": "text",
    "id": "2knuTxAEqoJ4"
   },
   "source": [
    "**3. Modeling**\n",
    "\n",
    "Consider creating a function that will calculate a ratio of house prices, comparing the price of a house in 2018 to the price in 1998.\n",
    "\n",
    "Consider calling this function create_price_ratio.\n",
    "\n",
    "You'd want this function to:\n",
    "1. Take a filter of dfg, specifically where this filter constrains the London_Borough, as an argument. For example, one admissible argument should be: dfg[dfg['London_Borough']=='Camden'].\n",
    "2. Get the Average Price for that Borough, for the years 1998 and 2018.\n",
    "4. Calculate the ratio of the Average Price for 1998 divided by the Average Price for 2018.\n",
    "5. Return that ratio.\n",
    "\n",
    "Once you've written this function, you ultimately want to use it to iterate through all the unique London_Boroughs and work out the ratio capturing the difference of house prices between 1998 and 2018.\n",
    "\n",
    "Bear in mind: you don't have to write a function like this if you don't want to. If you can solve the brief otherwise, then great! \n",
    "\n",
    "***Hint***: This section should test the skills you acquired in:\n",
    "- Python Data Science Toolbox - Part One, all modules"
   ]
  },
  {
   "cell_type": "code",
   "execution_count": 124,
   "metadata": {
    "colab": {},
    "colab_type": "code",
    "id": "cKTyr437UgDa"
   },
   "outputs": [
    {
     "name": "stdout",
     "output_type": "stream",
     "text": [
      "The price ratio for Camden from 1998 to 2018 is 4.93\n"
     ]
    }
   ],
   "source": [
    "def create_price_ratio(df, borough):\n",
    "    borough_data = df[df['London_Borough'] == borough]\n",
    "    \n",
    "    # average price for the year 1998\n",
    "    avg_price_1998 = borough_data[borough_data['Year'] == '1998']['Average_price'].mean()\n",
    "    \n",
    "    # average price for the year 2018\n",
    "    avg_price_2018 = borough_data[borough_data['Year'] == '2018']['Average_price'].mean()\n",
    "    \n",
    "    # Calculate the ratio\n",
    "    price_ratio = avg_price_2018 / avg_price_1998\n",
    "    \n",
    "    return price_ratio\n",
    "\n",
    "borough = 'Camden'\n",
    "ratio = create_price_ratio(properties_cleaned, borough)\n",
    "print(f\"The price ratio for {borough} from 1998 to 2018 is {ratio:.2f}\")"
   ]
  },
  {
   "cell_type": "markdown",
   "metadata": {
    "colab_type": "text",
    "id": "NzYUI7FxJpgv"
   },
   "source": [
    "### 4. Conclusion\n",
    "What can you conclude? Type out your conclusion below. \n",
    "\n",
    "Look back at your notebook. Think about how you might summarize what you have done, and prepare a quick presentation on it to your mentor at your next meeting. \n",
    "\n",
    "We hope you enjoyed this practical project. It should have consolidated your data hygiene and pandas skills by looking at a real-world problem involving just the kind of dataset you might encounter as a budding data scientist. Congratulations, and looking forward to seeing you at the next step in the course! "
   ]
  }
 ],
 "metadata": {
  "colab": {
   "collapsed_sections": [],
   "name": "Springboard Data Science Career Track Unit 4 Challenge - Tier 3 Complete .ipynb",
   "provenance": []
  },
  "kernelspec": {
   "display_name": "base",
   "language": "python",
   "name": "python3"
  },
  "language_info": {
   "codemirror_mode": {
    "name": "ipython",
    "version": 3
   },
   "file_extension": ".py",
   "mimetype": "text/x-python",
   "name": "python",
   "nbconvert_exporter": "python",
   "pygments_lexer": "ipython3",
   "version": "3.12.7"
  }
 },
 "nbformat": 4,
 "nbformat_minor": 0
}
