{
  "nbformat": 4,
  "nbformat_minor": 0,
  "metadata": {
    "colab": {
      "provenance": [],
      "authorship_tag": "ABX9TyNugvNFtAu14YDtBbRmq2yK",
      "include_colab_link": true
    },
    "kernelspec": {
      "name": "python3",
      "display_name": "Python 3"
    },
    "language_info": {
      "name": "python"
    }
  },
  "cells": [
    {
      "cell_type": "markdown",
      "metadata": {
        "id": "view-in-github",
        "colab_type": "text"
      },
      "source": [
        "<a href=\"https://colab.research.google.com/github/RajeshkumarA/Springboard_assignments/blob/main/Capstone_Two_Pre_processing_and_Training_Data_Development_Rajesh_Ananthula.ipynb\" target=\"_parent\"><img src=\"https://colab.research.google.com/assets/colab-badge.svg\" alt=\"Open In Colab\"/></a>"
      ]
    },
    {
      "cell_type": "markdown",
      "source": [
        "Capstone Two - Pre-processing and Training Data Development"
      ],
      "metadata": {
        "id": "Hst03Fh9mE-0"
      }
    },
    {
      "cell_type": "code",
      "execution_count": 7,
      "metadata": {
        "id": "kQS0uL_HmBBJ"
      },
      "outputs": [],
      "source": [
        "# Import necessary packages\n",
        "import numpy as np\n",
        "import pandas as pd\n",
        "import seaborn as sns\n",
        "import matplotlib.pyplot as plt"
      ]
    },
    {
      "cell_type": "markdown",
      "source": [
        "Load Housing dataset"
      ],
      "metadata": {
        "id": "Zr9aljrhmZyk"
      }
    },
    {
      "cell_type": "code",
      "source": [
        "# Import dataset which I am using for the capstone project two\n",
        "df = pd.read_csv('/content/Dataset/American_Housing_Data_20231209.csv')"
      ],
      "metadata": {
        "id": "CqQFjYPBmbTt"
      },
      "execution_count": 8,
      "outputs": []
    },
    {
      "cell_type": "markdown",
      "source": [
        "As per the goal of this excersise, create dummy or indicator features for categorical variables\n"
      ],
      "metadata": {
        "id": "gEM4S2tOnXw5"
      }
    },
    {
      "cell_type": "code",
      "source": [
        "# Select categorical columns for one-hot encoding\n",
        "categorical_cols = df.select_dtypes(include='object').columns\n",
        "\n",
        "# Create dummy/indicator features\n",
        "df_dummies = pd.get_dummies(df, columns=categorical_cols, drop_first=True)\n",
        "\n",
        "# Display the first few rows with the new dummy variables\n",
        "print(df_dummies.head())\n",
        "print(\"\\nOriginal number of columns:\", df.shape[1])\n",
        "print(\"Number of columns after one-hot encoding:\", df_dummies.shape[1])"
      ],
      "metadata": {
        "colab": {
          "base_uri": "https://localhost:8080/"
        },
        "id": "fxV3vJn-mq46",
        "outputId": "d13afa0d-5810-4c62-b7db-25359e6cb859"
      },
      "execution_count": 9,
      "outputs": [
        {
          "output_type": "stream",
          "name": "stdout",
          "text": [
            "   Zip Code      Price  Beds  Baths  Living Space  Zip Code Population  \\\n",
            "0     10013  3999000.0     2      3          1967                29563   \n",
            "1     10013  3999000.0     2      3          1967                29563   \n",
            "2     10014  1650000.0     1      1           718                29815   \n",
            "3     10014   760000.0     3      2          1538                29815   \n",
            "4     10014  1100000.0     1      1           600                29815   \n",
            "\n",
            "   Zip Code Density  Median Household Income  Latitude  Longitude  ...  \\\n",
            "0           20967.9                 370046.0  40.72001  -74.00472  ...   \n",
            "1           20967.9                 370046.0  40.72001  -74.00472  ...   \n",
            "2           23740.9                 249880.0  40.73407  -74.00601  ...   \n",
            "3           23740.9                 249880.0  40.73407  -74.00601  ...   \n",
            "4           23740.9                 249880.0  40.73407  -74.00601  ...   \n",
            "\n",
            "   County_Travis  County_Tulsa  County_Union  County_Virginia Beach  \\\n",
            "0          False         False         False                  False   \n",
            "1          False         False         False                  False   \n",
            "2          False         False         False                  False   \n",
            "3          False         False         False                  False   \n",
            "4          False         False         False                  False   \n",
            "\n",
            "   County_Wagoner  County_Wake  County_Washington  County_Wayne  \\\n",
            "0           False        False              False         False   \n",
            "1           False        False              False         False   \n",
            "2           False        False              False         False   \n",
            "3           False        False              False         False   \n",
            "4           False        False              False         False   \n",
            "\n",
            "   County_Williamson  County_Wyandotte  \n",
            "0              False             False  \n",
            "1              False             False  \n",
            "2              False             False  \n",
            "3              False             False  \n",
            "4              False             False  \n",
            "\n",
            "[5 rows x 39193 columns]\n",
            "\n",
            "Original number of columns: 14\n",
            "Number of columns after one-hot encoding: 39193\n"
          ]
        }
      ]
    },
    {
      "cell_type": "markdown",
      "source": [
        "Standardize the magnitude of numeric features using a scaler"
      ],
      "metadata": {
        "id": "4EyGm2Ksm6ik"
      }
    },
    {
      "cell_type": "code",
      "source": [
        "import numpy as np\n",
        "from sklearn.preprocessing import StandardScaler\n",
        "\n",
        "# Select numerical columns for scaling\n",
        "# Exclude the target variable if it exists and is not to be scaled\n",
        "numerical_cols = df_dummies.select_dtypes(include=np.number).columns\n",
        "\n",
        "# Initialize the StandardScaler\n",
        "scaler = StandardScaler()\n",
        "\n",
        "# Fit and transform the numerical columns\n",
        "df_dummies[numerical_cols] = scaler.fit_transform(df_dummies[numerical_cols])\n",
        "\n",
        "# Display the first few rows of the scaled DataFrame\n",
        "print(df_dummies.head())"
      ],
      "metadata": {
        "colab": {
          "base_uri": "https://localhost:8080/"
        },
        "id": "ZeeGKxE0m8WQ",
        "outputId": "8e1cf179-9491-418e-d6a3-07ee974632d8"
      },
      "execution_count": 10,
      "outputs": [
        {
          "output_type": "stream",
          "name": "stdout",
          "text": [
            "   Zip Code     Price      Beds     Baths  Living Space  Zip Code Population  \\\n",
            "0 -2.140228  3.565300 -0.895248  0.403188      0.054056            -0.437180   \n",
            "1 -2.140228  3.565300 -0.895248  0.403188      0.054056            -0.437180   \n",
            "2 -2.140189  1.084750 -1.659318 -1.108499     -0.977075            -0.423684   \n",
            "3 -2.140189  0.144908 -0.131177 -0.352655     -0.300112            -0.423684   \n",
            "4 -2.140189  0.503949 -1.659318 -1.108499     -1.074491            -0.423684   \n",
            "\n",
            "   Zip Code Density  Median Household Income  Latitude  Longitude  ...  \\\n",
            "0          6.308586                 5.479120  0.963465   1.598561  ...   \n",
            "1          6.308586                 5.479120  0.963465   1.598561  ...   \n",
            "2          7.249690                 2.939067  0.966627   1.598475  ...   \n",
            "3          7.249690                 2.939067  0.966627   1.598475  ...   \n",
            "4          7.249690                 2.939067  0.966627   1.598475  ...   \n",
            "\n",
            "   County_Travis  County_Tulsa  County_Union  County_Virginia Beach  \\\n",
            "0          False         False         False                  False   \n",
            "1          False         False         False                  False   \n",
            "2          False         False         False                  False   \n",
            "3          False         False         False                  False   \n",
            "4          False         False         False                  False   \n",
            "\n",
            "   County_Wagoner  County_Wake  County_Washington  County_Wayne  \\\n",
            "0           False        False              False         False   \n",
            "1           False        False              False         False   \n",
            "2           False        False              False         False   \n",
            "3           False        False              False         False   \n",
            "4           False        False              False         False   \n",
            "\n",
            "   County_Williamson  County_Wyandotte  \n",
            "0              False             False  \n",
            "1              False             False  \n",
            "2              False             False  \n",
            "3              False             False  \n",
            "4              False             False  \n",
            "\n",
            "[5 rows x 39193 columns]\n"
          ]
        }
      ]
    },
    {
      "cell_type": "markdown",
      "source": [
        "Split your data into testing and training datasets"
      ],
      "metadata": {
        "id": "LXBwfpP0nCse"
      }
    },
    {
      "cell_type": "code",
      "source": [
        "from sklearn.model_selection import train_test_split\n",
        "\n",
        "# Split data into features (X) and target (y)\n",
        "X = df_dummies.drop('Price', axis=1)  # Assuming 'Price' is the target variable\n",
        "y = df_dummies['Price']\n",
        "\n",
        "# Split into training and testing sets\n",
        "X_train, X_test, y_train, y_test = train_test_split(X, y, test_size=0.2, random_state=42)\n",
        "\n",
        "print(\"Shape of X_train:\", X_train.shape)\n",
        "print(\"Shape of X_test:\", X_test.shape)\n",
        "print(\"Shape of y_train:\", y_train.shape)\n",
        "print(\"Shape of y_test:\", y_test.shape)"
      ],
      "metadata": {
        "colab": {
          "base_uri": "https://localhost:8080/"
        },
        "id": "zRMQPnkBpXXI",
        "outputId": "38a08151-4a76-44e0-c7dc-38f291f6cd3a"
      },
      "execution_count": 14,
      "outputs": [
        {
          "output_type": "stream",
          "name": "stdout",
          "text": [
            "Shape of X_train: (31984, 39192)\n",
            "Shape of X_test: (7997, 39192)\n",
            "Shape of y_train: (31984,)\n",
            "Shape of y_test: (7997,)\n"
          ]
        }
      ]
    }
  ]
}